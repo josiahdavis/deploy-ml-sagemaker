{
 "cells": [
  {
   "cell_type": "markdown",
   "metadata": {},
   "source": [
    "# Deploy Scikit-Learn models in Amazon SageMaker\n",
    "\n",
    "This example is extends the blog post [Train and host Scikit-Learn models in Amazon SageMaker](https://aws.amazon.com/blogs/machine-learning/train-and-host-scikit-learn-models-in-amazon-sagemaker-by-building-a-scikit-docker-container/) by Thomas Hughes and Morgan Du to allow for training models outside of SageMaker and only using SageMaker for the hosting of the endpoint. \n",
    "\n",
    "For questions please reach out to Josiah Davis davjosia@amazon.com.\n",
    "\n",
    "### (1) Train the model"
   ]
  },
  {
   "cell_type": "code",
   "execution_count": 1,
   "metadata": {
    "scrolled": true
   },
   "outputs": [
    {
     "data": {
      "text/html": [
       "<div>\n",
       "<style>\n",
       "    .dataframe thead tr:only-child th {\n",
       "        text-align: right;\n",
       "    }\n",
       "\n",
       "    .dataframe thead th {\n",
       "        text-align: left;\n",
       "    }\n",
       "\n",
       "    .dataframe tbody tr th {\n",
       "        vertical-align: top;\n",
       "    }\n",
       "</style>\n",
       "<table border=\"1\" class=\"dataframe\">\n",
       "  <thead>\n",
       "    <tr style=\"text-align: right;\">\n",
       "      <th></th>\n",
       "      <th>0</th>\n",
       "      <th>1</th>\n",
       "      <th>2</th>\n",
       "      <th>3</th>\n",
       "      <th>4</th>\n",
       "    </tr>\n",
       "  </thead>\n",
       "  <tbody>\n",
       "    <tr>\n",
       "      <th>0</th>\n",
       "      <td>setosa</td>\n",
       "      <td>5.1</td>\n",
       "      <td>3.5</td>\n",
       "      <td>1.4</td>\n",
       "      <td>0.2</td>\n",
       "    </tr>\n",
       "    <tr>\n",
       "      <th>1</th>\n",
       "      <td>setosa</td>\n",
       "      <td>4.9</td>\n",
       "      <td>3.0</td>\n",
       "      <td>1.4</td>\n",
       "      <td>0.2</td>\n",
       "    </tr>\n",
       "    <tr>\n",
       "      <th>2</th>\n",
       "      <td>setosa</td>\n",
       "      <td>4.7</td>\n",
       "      <td>3.2</td>\n",
       "      <td>1.3</td>\n",
       "      <td>0.2</td>\n",
       "    </tr>\n",
       "    <tr>\n",
       "      <th>3</th>\n",
       "      <td>setosa</td>\n",
       "      <td>4.6</td>\n",
       "      <td>3.1</td>\n",
       "      <td>1.5</td>\n",
       "      <td>0.2</td>\n",
       "    </tr>\n",
       "    <tr>\n",
       "      <th>4</th>\n",
       "      <td>setosa</td>\n",
       "      <td>5.0</td>\n",
       "      <td>3.6</td>\n",
       "      <td>1.4</td>\n",
       "      <td>0.2</td>\n",
       "    </tr>\n",
       "  </tbody>\n",
       "</table>\n",
       "</div>"
      ],
      "text/plain": [
       "        0    1    2    3    4\n",
       "0  setosa  5.1  3.5  1.4  0.2\n",
       "1  setosa  4.9  3.0  1.4  0.2\n",
       "2  setosa  4.7  3.2  1.3  0.2\n",
       "3  setosa  4.6  3.1  1.5  0.2\n",
       "4  setosa  5.0  3.6  1.4  0.2"
      ]
     },
     "execution_count": 1,
     "metadata": {},
     "output_type": "execute_result"
    }
   ],
   "source": [
    "import pandas as pd\n",
    "train = pd.read_csv('iris_train.csv', header=None)\n",
    "train.head()"
   ]
  },
  {
   "cell_type": "code",
   "execution_count": 2,
   "metadata": {
    "collapsed": true
   },
   "outputs": [],
   "source": [
    "from sklearn.ensemble import RandomForestClassifier\n",
    "y_train = train.iloc[:,0]\n",
    "X_train = train.iloc[:,1:]\n",
    "\n",
    "clf = RandomForestClassifier(n_estimators=20)\n",
    "clf = clf.fit(X_train, y_train)"
   ]
  },
  {
   "cell_type": "markdown",
   "metadata": {},
   "source": [
    "### (2) Save the model"
   ]
  },
  {
   "cell_type": "code",
   "execution_count": 3,
   "metadata": {
    "collapsed": true
   },
   "outputs": [],
   "source": [
    "import pickle\n",
    "with open('model.pkl', 'wb') as out:\n",
    "    pickle.dump(clf, out)"
   ]
  },
  {
   "cell_type": "markdown",
   "metadata": {},
   "source": [
    "### (4) Update the Dockerfile to install additional packages if needed.\n",
    "The dockerfile here is shown below."
   ]
  },
  {
   "cell_type": "code",
   "execution_count": 4,
   "metadata": {},
   "outputs": [
    {
     "name": "stdout",
     "output_type": "stream",
     "text": [
      "# Build an image that can do training and inference in SageMaker\r\n",
      "# This is a Python 3 image that uses the nginx, gunicorn, flask stack\r\n",
      "# for serving inferences in a stable way.\r\n",
      "\r\n",
      "FROM ubuntu:16.04\r\n",
      "\r\n",
      "MAINTAINER Amazon AI <sage-learner@amazon.com>\r\n",
      "\r\n",
      "RUN apt-get -y update && apt-get install -y --no-install-recommends \\\r\n",
      "         wget \\\r\n",
      "         python3 \\\r\n",
      "         nginx \\\r\n",
      "         ca-certificates \\\r\n",
      "    && rm -rf /var/lib/apt/lists/*\r\n",
      "\r\n",
      "# Here we get all python packages.\r\n",
      "# Pip leaves the install caches populated which uses a significant amount of space.\r\n",
      "# This optimization save a fair amount of space in the image, which reduces start up time.\r\n",
      "RUN wget https://bootstrap.pypa.io/get-pip.py && python3 get-pip.py && \\\r\n",
      "    pip install scipy scikit-learn pandas flask gevent gunicorn && rm -rf /root/.cache\r\n",
      "\r\n",
      "# Set some environment variables. PYTHONUNBUFFERED keeps Python from buffering our standard\r\n",
      "# output stream, which means that logs can be delivered to the user quickly. PYTHONDONTWRITEBYTECODE\r\n",
      "# keeps Python from writing the .pyc files which are unnecessary in this case. We also update\r\n",
      "# PATH so that the train and serve programs are found when the container is invoked.\r\n",
      "\r\n",
      "ENV PYTHONUNBUFFERED=TRUE\r\n",
      "ENV PYTHONDONTWRITEBYTECODE=TRUE\r\n",
      "ENV PATH=\"/opt/program:${PATH}\"\r\n",
      "\r\n",
      "# Set up the program in the image\r\n",
      "COPY deployment_utility /opt/program\r\n",
      "COPY predictor.py /opt/program\r\n",
      "WORKDIR /opt/program\r\n",
      "\r\n",
      "# Run the program that serves predictions\r\n",
      "ENTRYPOINT [\"./serve\"]\r\n"
     ]
    }
   ],
   "source": [
    "!cat Dockerfile"
   ]
  },
  {
   "cell_type": "markdown",
   "metadata": {},
   "source": [
    "### (5) Run the `deploy.sh` script from command line: \n",
    "\n",
    "This script is doing three things:\n",
    "\n",
    "1. Uploading the scikit model to S3\n",
    "2. Building, tagging and pushing the Docker Container to ECS\n",
    "3. Creating the SageMaker endpoint\n",
    "\n",
    "**Note 1**: the execution role must have the following policies attached:\n",
    "- AmazonSageMakerFullAccess\n",
    "- AmazonS3FullAccess \n",
    "\n",
    "**Note 2**: first time users can update the defauly s3_model_location and sagemaker_exeuction_role in the deploy.sh script to avoid having to enter it manually each time. Once these defaults have been updated they no longer need to be specified in subsequent deployments."
   ]
  },
  {
   "cell_type": "markdown",
   "metadata": {},
   "source": [
    "`./deploy.sh <image_name> [<s3_model_location>] [<sagemaker_execution_role>]`\n",
    "\n",
    "For example:\n",
    "\n",
    "`./deploy.sh iris-model`\n",
    "\n",
    "Or:\n",
    "\n",
    "`./deploy.sh iris-model s3://sagemaker-demo-samples/iris-model/input/model.tar.gz AmazonSageMaker-ExecutionRole-20171204T150334`"
   ]
  },
  {
   "cell_type": "code",
   "execution_count": 6,
   "metadata": {},
   "outputs": [
    {
     "name": "stdout",
     "output_type": "stream",
     "text": [
      "a model.pkl\n",
      "move: ./model.tar.gz to s3://sagemaker-demo-samples/iris-model-randomforest/input/model.tar.gz\n",
      "Model uploaded to  s3://sagemaker-demo-samples/iris-model-randomforest/input/model.tar.gz\n",
      "WARNING! Using --password via the CLI is insecure. Use --password-stdin.\n",
      "Login Succeeded\n",
      "Sending build context to Docker daemon  102.4kB\n",
      "Step 1/11 : FROM ubuntu:16.04\n",
      " ---> 0b1edfbffd27\n",
      "Step 2/11 : MAINTAINER Amazon AI <sage-learner@amazon.com>\n",
      " ---> Using cache\n",
      " ---> 0b5849031ec8\n",
      "Step 3/11 : RUN apt-get -y update && apt-get install -y --no-install-recommends          wget          python3          nginx          ca-certificates     && rm -rf /var/lib/apt/lists/*\n",
      " ---> Using cache\n",
      " ---> 5411fbf3c61a\n",
      "Step 4/11 : RUN wget https://bootstrap.pypa.io/get-pip.py && python3 get-pip.py &&     pip install scipy scikit-learn pandas flask gevent gunicorn && rm -rf /root/.cache\n",
      " ---> Using cache\n",
      " ---> a3b829cbce12\n",
      "Step 5/11 : ENV PYTHONUNBUFFERED=TRUE\n",
      " ---> Using cache\n",
      " ---> f173a55c7809\n",
      "Step 6/11 : ENV PYTHONDONTWRITEBYTECODE=TRUE\n",
      " ---> Using cache\n",
      " ---> 91c3f5da4217\n",
      "Step 7/11 : ENV PATH=\"/opt/program:${PATH}\"\n",
      " ---> Using cache\n",
      " ---> 9b20b987e507\n",
      "Step 8/11 : COPY deployment_utility /opt/program\n",
      " ---> Using cache\n",
      " ---> 2869985f3335\n",
      "Step 9/11 : COPY predictor.py /opt/program\n",
      " ---> Using cache\n",
      " ---> 3dc3e6530f82\n",
      "Step 10/11 : WORKDIR /opt/program\n",
      " ---> Using cache\n",
      " ---> ff10aad8e908\n",
      "Step 11/11 : ENTRYPOINT [\"./serve\"]\n",
      " ---> Using cache\n",
      " ---> a657872b028f\n",
      "Successfully built a657872b028f\n",
      "Successfully tagged iris-model-randomforest:latest\n",
      "\n",
      "Docker image built ...\n",
      "The push refers to repository [216321755658.dkr.ecr.us-east-1.amazonaws.com/iris-model-randomforest]\n",
      "\n",
      "\u001b[1Bdf14f35a: Preparing \n",
      "\u001b[1Bb2929552: Preparing \n",
      "\u001b[1B2cea5ec0: Preparing \n",
      "\u001b[1Bdc50c8f6: Preparing \n",
      "\u001b[1B982208f5: Preparing \n",
      "\u001b[1B4cc1c2dd: Preparing \n",
      "\u001b[1B04adc8bd: Preparing \n",
      "\u001b[1B8dbf791d: Preparing \n",
      "\u001b[1B3ff3c3d3: Layer already exists \u001b[7A\u001b[1K\u001b[K\u001b[2A\u001b[1K\u001b[K\u001b[1A\u001b[1K\u001b[Klatest: digest: sha256:6a666a687132247f8cb5e6e54bbbf5437309e49712e1763426a1b1945d8d3aef size: 2197\n",
      "\n",
      "Docker image pushed ...\n",
      "{\n",
      "    \"ModelArn\": \"arn:aws:sagemaker:us-east-1:216321755658:model/iris-model-randomforest-20180829-105236\"\n",
      "}\n",
      "{\n",
      "    \"EndpointConfigArn\": \"arn:aws:sagemaker:us-east-1:216321755658:endpoint-config/iris-model-randomforest-20180829-105236\"\n",
      "}\n",
      "{\n",
      "    \"EndpointArn\": \"arn:aws:sagemaker:us-east-1:216321755658:endpoint/iris-model-randomforest-20180829-105236\"\n",
      "}\n",
      "Creating endpoint iris-model-randomforest-20180829-105236 ...\n",
      "\n",
      "To check on the status use:\n",
      "    !aws sagemaker list-endpoints --name-contains iris-model-randomforest-20180829-105236\n"
     ]
    }
   ],
   "source": [
    "!./deploy.sh iris-model-randomforest"
   ]
  },
  {
   "cell_type": "code",
   "execution_count": 7,
   "metadata": {},
   "outputs": [
    {
     "name": "stdout",
     "output_type": "stream",
     "text": [
      "{\r\n",
      "    \"Endpoints\": [\r\n",
      "        {\r\n",
      "            \"EndpointName\": \"iris-model-randomforest-20180829-105236\",\r\n",
      "            \"EndpointArn\": \"arn:aws:sagemaker:us-east-1:216321755658:endpoint/iris-model-randomforest-20180829-105236\",\r\n",
      "            \"CreationTime\": 1535557960.087,\r\n",
      "            \"LastModifiedTime\": 1535557960.087,\r\n",
      "            \"EndpointStatus\": \"Creating\"\r\n",
      "        }\r\n",
      "    ]\r\n",
      "}\r\n"
     ]
    }
   ],
   "source": [
    "!aws sagemaker list-endpoints --name-contains iris-model-randomforest-20180829-105236"
   ]
  },
  {
   "cell_type": "markdown",
   "metadata": {},
   "source": [
    "View the created objects in the management console:\n",
    "- [model](https://console.aws.amazon.com/sagemaker/home?region=us-east-1#/models)\n",
    "- [endpoint configuration](https://console.aws.amazon.com/sagemaker/home?region=us-east-1#/endpointConfig)\n",
    "- [configuration](https://console.aws.amazon.com/sagemaker/home?region=us-east-1#/endpoints) "
   ]
  },
  {
   "cell_type": "markdown",
   "metadata": {},
   "source": [
    "### (6) Predict new observations\n",
    "\n",
    "Note that for the new predictions there is no target variable and the features are formatted exactly as before."
   ]
  },
  {
   "cell_type": "code",
   "execution_count": 8,
   "metadata": {},
   "outputs": [
    {
     "data": {
      "text/html": [
       "<div>\n",
       "<style>\n",
       "    .dataframe thead tr:only-child th {\n",
       "        text-align: right;\n",
       "    }\n",
       "\n",
       "    .dataframe thead th {\n",
       "        text-align: left;\n",
       "    }\n",
       "\n",
       "    .dataframe tbody tr th {\n",
       "        vertical-align: top;\n",
       "    }\n",
       "</style>\n",
       "<table border=\"1\" class=\"dataframe\">\n",
       "  <thead>\n",
       "    <tr style=\"text-align: right;\">\n",
       "      <th></th>\n",
       "      <th>0</th>\n",
       "      <th>1</th>\n",
       "      <th>2</th>\n",
       "      <th>3</th>\n",
       "    </tr>\n",
       "  </thead>\n",
       "  <tbody>\n",
       "    <tr>\n",
       "      <th>0</th>\n",
       "      <td>5.0</td>\n",
       "      <td>3.5</td>\n",
       "      <td>1.3</td>\n",
       "      <td>0.3</td>\n",
       "    </tr>\n",
       "    <tr>\n",
       "      <th>1</th>\n",
       "      <td>4.5</td>\n",
       "      <td>2.3</td>\n",
       "      <td>1.3</td>\n",
       "      <td>0.3</td>\n",
       "    </tr>\n",
       "    <tr>\n",
       "      <th>2</th>\n",
       "      <td>4.4</td>\n",
       "      <td>3.2</td>\n",
       "      <td>1.3</td>\n",
       "      <td>0.2</td>\n",
       "    </tr>\n",
       "    <tr>\n",
       "      <th>3</th>\n",
       "      <td>5.0</td>\n",
       "      <td>3.5</td>\n",
       "      <td>1.6</td>\n",
       "      <td>0.6</td>\n",
       "    </tr>\n",
       "    <tr>\n",
       "      <th>4</th>\n",
       "      <td>5.1</td>\n",
       "      <td>3.8</td>\n",
       "      <td>1.9</td>\n",
       "      <td>0.4</td>\n",
       "    </tr>\n",
       "  </tbody>\n",
       "</table>\n",
       "</div>"
      ],
      "text/plain": [
       "     0    1    2    3\n",
       "0  5.0  3.5  1.3  0.3\n",
       "1  4.5  2.3  1.3  0.3\n",
       "2  4.4  3.2  1.3  0.2\n",
       "3  5.0  3.5  1.6  0.6\n",
       "4  5.1  3.8  1.9  0.4"
      ]
     },
     "execution_count": 8,
     "metadata": {},
     "output_type": "execute_result"
    }
   ],
   "source": [
    "iris_predict = pd.read_csv('iris_predict.csv', header=None)\n",
    "iris_predict.head()"
   ]
  },
  {
   "cell_type": "code",
   "execution_count": 12,
   "metadata": {},
   "outputs": [
    {
     "name": "stdout",
     "output_type": "stream",
     "text": [
      "setosa\n",
      "setosa\n",
      "setosa\n",
      "setosa\n",
      "setosa\n",
      "setosa\n",
      "setosa\n",
      "setosa\n",
      "setosa\n",
      "setosa\n",
      "versicolor\n",
      "versicolor\n",
      "versicolor\n",
      "versicolor\n",
      "versicolor\n",
      "versicolor\n",
      "versicolor\n",
      "versicolor\n",
      "versicolor\n",
      "versicolor\n",
      "virginica\n",
      "virginica\n",
      "virginica\n",
      "virginica\n",
      "virginica\n",
      "virginica\n",
      "virginica\n",
      "virginica\n",
      "virginica\n",
      "\n"
     ]
    }
   ],
   "source": [
    "import io, boto3\n",
    "data_stream = io.StringIO()\n",
    "iris_predict.to_csv(data_stream, header=None, index=None)\n",
    "\n",
    "sess = boto3.Session()\n",
    "response = sess.client('sagemaker-runtime').invoke_endpoint(\n",
    "    EndpointName='iris-model-randomforest-20180829-105236', \n",
    "    Body=data_stream.getvalue(), \n",
    "    ContentType='text/csv', \n",
    "    Accept='Accept'\n",
    ")\n",
    "print(response['Body'].read().decode('ascii'))"
   ]
  },
  {
   "cell_type": "markdown",
   "metadata": {},
   "source": [
    "### (7) Delete the endpoint"
   ]
  },
  {
   "cell_type": "code",
   "execution_count": 13,
   "metadata": {
    "collapsed": true
   },
   "outputs": [],
   "source": [
    "!aws sagemaker delete-endpoint --endpoint-name iris-model-randomforest-20180829-105236 --profile default"
   ]
  },
  {
   "cell_type": "markdown",
   "metadata": {},
   "source": [
    "Alternative workflows:\n",
    "- Run this jupyter notebook itself in a docker container, that way the environment, package versions will be consistent.\n",
    "- Cloud Formation Template to create the IAM role for SageMaker execution that has AmazonSageMakerFullAccess and AmazonS3FullAccess both attached."
   ]
  }
 ],
 "metadata": {
  "kernelspec": {
   "display_name": "Python 3",
   "language": "python",
   "name": "python3"
  },
  "language_info": {
   "codemirror_mode": {
    "name": "ipython",
    "version": 3
   },
   "file_extension": ".py",
   "mimetype": "text/x-python",
   "name": "python",
   "nbconvert_exporter": "python",
   "pygments_lexer": "ipython3",
   "version": "3.6.1"
  }
 },
 "nbformat": 4,
 "nbformat_minor": 2
}
